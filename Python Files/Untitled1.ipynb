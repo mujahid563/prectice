{
 "cells": [
  {
   "cell_type": "code",
   "execution_count": 1,
   "id": "4dbd31fe",
   "metadata": {},
   "outputs": [],
   "source": [
    "import numpy as np\n"
   ]
  },
  {
   "cell_type": "code",
   "execution_count": 2,
   "id": "a40db5b9",
   "metadata": {},
   "outputs": [],
   "source": [
    "import matplotlib.pyplot as plt"
   ]
  },
  {
   "cell_type": "code",
   "execution_count": 3,
   "id": "29fc242a",
   "metadata": {},
   "outputs": [
    {
     "data": {
      "image/png": "[encoded data removed]",
      "text/plain": [
       "<Figure size 432x288 with 9 Axes>"
      ]
     },
     "metadata": {
      "needs_background": "light"
     },
     "output_type": "display_data"
    }
   ],
   "source": [
    "fig, axs = plt.subplots(3,3)\n",
    "axs[0,0].set_facecolor('#ddddff')\n",
    "axs[2,2].set_facecolor('#ffffdd')"
   ]
  },
  {
   "cell_type": "code",
   "execution_count": 4,
   "id": "fce54ad2",
   "metadata": {},
   "outputs": [],
   "source": [
    "gs = fig.add_gridspec(3, 3)\n",
    "plt = fig.add_subplot(gs[0, :])\n",
    "plt.set_facecolor('#ddddff')"
   ]
  },
  {
   "cell_type": "code",
   "execution_count": 5,
   "id": "c02c03ed",
   "metadata": {},
   "outputs": [
    {
     "ename": "AttributeError",
     "evalue": "'AxesSubplot' object has no attribute 'subplots'",
     "output_type": "error",
     "traceback": [
      "\u001b[1;31m---------------------------------------------------------------------------\u001b[0m",
      "\u001b[1;31mAttributeError\u001b[0m                            Traceback (most recent call last)",
      "\u001b[1;32mC:\\Users\\TEMPDE~1.002\\AppData\\Local\\Temp/ipykernel_4664/2391528098.py\u001b[0m in \u001b[0;36m<module>\u001b[1;34m\u001b[0m\n\u001b[1;32m----> 1\u001b[1;33m \u001b[0mfig\u001b[0m\u001b[1;33m,\u001b[0m \u001b[0mplt\u001b[0m \u001b[1;33m=\u001b[0m \u001b[0mplt\u001b[0m\u001b[1;33m.\u001b[0m\u001b[0msubplots\u001b[0m\u001b[1;33m(\u001b[0m\u001b[1;33m)\u001b[0m\u001b[1;33m\u001b[0m\u001b[1;33m\u001b[0m\u001b[0m\n\u001b[0m\u001b[0;32m      2\u001b[0m \u001b[0mplt\u001b[0m\u001b[1;33m.\u001b[0m\u001b[0mspines\u001b[0m\u001b[1;33m[\u001b[0m\u001b[1;34m'top'\u001b[0m\u001b[1;33m]\u001b[0m\u001b[1;33m.\u001b[0m\u001b[0mset_color\u001b[0m\u001b[1;33m(\u001b[0m\u001b[1;34m'None'\u001b[0m\u001b[1;33m)\u001b[0m\u001b[1;33m\u001b[0m\u001b[1;33m\u001b[0m\u001b[0m\n\u001b[0;32m      3\u001b[0m \u001b[0mplt\u001b[0m\u001b[1;33m.\u001b[0m\u001b[0mspines\u001b[0m\u001b[1;33m[\u001b[0m\u001b[1;34m'right'\u001b[0m\u001b[1;33m]\u001b[0m\u001b[1;33m.\u001b[0m\u001b[0mset_color\u001b[0m\u001b[1;33m(\u001b[0m\u001b[1;34m'None'\u001b[0m\u001b[1;33m)\u001b[0m\u001b[1;33m\u001b[0m\u001b[1;33m\u001b[0m\u001b[0m\n",
      "\u001b[1;31mAttributeError\u001b[0m: 'AxesSubplot' object has no attribute 'subplots'"
     ]
    }
   ],
   "source": [
    "fig, plt = plt.subplots()\n",
    "plt.spines['top'].set_color('None')\n",
    "plt.spines['right'].set_color('None')\n"
   ]
  },
  {
   "cell_type": "code",
   "execution_count": 6,
   "id": "83d0753b",
   "metadata": {},
   "outputs": [
    {
     "data": {
      "text/plain": [
       "[<matplotlib.lines.Line2D at 0x18d8edbd910>]"
      ]
     },
     "execution_count": 6,
     "metadata": {},
     "output_type": "execute_result"
    }
   ],
   "source": [
    "X = np.linspace(0.1, 10*np.pi, 1000)\n",
    "Y = np.sin(X)\n",
    "plt.plot(X, Y, 'C1o:', markevery=25, mec='1.0')"
   ]
  },
  {
   "cell_type": "code",
   "execution_count": 7,
   "id": "f487155e",
   "metadata": {},
   "outputs": [
    {
     "ename": "AttributeError",
     "evalue": "'AxesSubplot' object has no attribute 'subplots'",
     "output_type": "error",
     "traceback": [
      "\u001b[1;31m---------------------------------------------------------------------------\u001b[0m",
      "\u001b[1;31mAttributeError\u001b[0m                            Traceback (most recent call last)",
      "\u001b[1;32mC:\\Users\\TEMPDE~1.002\\AppData\\Local\\Temp/ipykernel_4664/4085245545.py\u001b[0m in \u001b[0;36m<module>\u001b[1;34m\u001b[0m\n\u001b[1;32m----> 1\u001b[1;33m \u001b[0mfig\u001b[0m\u001b[1;33m,\u001b[0m \u001b[0max\u001b[0m \u001b[1;33m=\u001b[0m \u001b[0mplt\u001b[0m\u001b[1;33m.\u001b[0m\u001b[0msubplots\u001b[0m\u001b[1;33m(\u001b[0m\u001b[1;33m)\u001b[0m\u001b[1;33m\u001b[0m\u001b[1;33m\u001b[0m\u001b[0m\n\u001b[0m\u001b[0;32m      2\u001b[0m \u001b[0max\u001b[0m\u001b[1;33m.\u001b[0m\u001b[0mset_xscale\u001b[0m\u001b[1;33m(\u001b[0m\u001b[1;34m\"log\"\u001b[0m\u001b[1;33m)\u001b[0m\u001b[1;33m\u001b[0m\u001b[1;33m\u001b[0m\u001b[0m\n\u001b[0;32m      3\u001b[0m \u001b[0max\u001b[0m\u001b[1;33m.\u001b[0m\u001b[0mplot\u001b[0m\u001b[1;33m(\u001b[0m\u001b[0mX\u001b[0m\u001b[1;33m,\u001b[0m \u001b[0mY\u001b[0m\u001b[1;33m,\u001b[0m \u001b[1;34m\"C1o-\"\u001b[0m\u001b[1;33m,\u001b[0m \u001b[0mmarkevery\u001b[0m\u001b[1;33m=\u001b[0m\u001b[1;36m25\u001b[0m\u001b[1;33m,\u001b[0m \u001b[0mmec\u001b[0m\u001b[1;33m=\u001b[0m\u001b[1;34m\"1.0\"\u001b[0m\u001b[1;33m)\u001b[0m\u001b[1;33m\u001b[0m\u001b[1;33m\u001b[0m\u001b[0m\n",
      "\u001b[1;31mAttributeError\u001b[0m: 'AxesSubplot' object has no attribute 'subplots'"
     ]
    }
   ],
   "source": [
    "fig, plt = plt.subplots()\n",
    "plt.set_xscale(\"log\")\n",
    "ax.plot(X, Y, \"C1o-\", markevery=25, mec=\"1.0\")"
   ]
  },
  {
   "cell_type": "code",
   "execution_count": null,
   "id": "e57a2d6a",
   "metadata": {},
   "outputs": [],
   "source": [
    "plt.fill_betweenx([-1,1],[0],[2*np.pi])\n",
    "plt.text(0, -1, r\" Period $\\Phi$\")\n"
   ]
  },
  {
   "cell_type": "code",
   "execution_count": null,
   "id": "27efc07f",
   "metadata": {},
   "outputs": [],
   "source": [
    "plt.plot(X, np.sin(X), \"C0\", label=\"Sine\")\n",
    "plt.plot(X, np.cos(X), \"C1\", label=\"Cosine\")\n",
    "plt.legend(bbox_to_anchor=(0,1,1,.1),ncol=2,\n",
    "mode=\"expand\", loc=\"lower left\")"
   ]
  },
  {
   "cell_type": "code",
   "execution_count": null,
   "id": "1b070bbd",
   "metadata": {},
   "outputs": [],
   "source": [
    "plt.annotate(\"A\", (X[250], Y[250]),(X[250], -1), ha=\"center\", va=\"center\", arrowprops = {\"arrowstyle\" : \"->\", \"color\": \"C1\"})"
   ]
  },
  {
   "cell_type": "code",
   "execution_count": null,
   "id": "80f7f1be",
   "metadata": {},
   "outputs": [],
   "source": [
    "plt.annotate(\"A\", (X[250],Y[250]),(X[250],-1),\n",
    "ha=\"center\", va=\"center\",arrowprops =\n",
    "{\"arrowstyle\" : \"->\", \"color\": \"C1\"})"
   ]
  },
  {
   "cell_type": "code",
   "execution_count": null,
   "id": "9e6ae4a7",
   "metadata": {},
   "outputs": [],
   "source": [
    "fig = plt.figure(figsize=(3.15,3.15), dpi=50)\n",
    "plt.savefig(\"figure.pdf\", dpi=600)\n"
   ]
  },
  {
   "cell_type": "code",
   "execution_count": null,
   "id": "a372a3e0",
   "metadata": {},
   "outputs": [],
   "source": []
  },
  {
   "cell_type": "code",
   "execution_count": null,
   "id": "5c502c12",
   "metadata": {},
   "outputs": [],
   "source": [
    "fig = px.chart_type(\n",
    "    df,\n",
    "    **chart_specific_parameters,\n",
    "    title=\"Chart title\",\n",
    "    labels={\"x_column_name\": \"X column name\"},\n",
    "    width=600,\n",
    "    height=400,\n",
    ")\n",
    "fig.show()"
   ]
  },
  {
   "cell_type": "code",
   "execution_count": null,
   "id": "f31a00c9",
   "metadata": {},
   "outputs": [],
   "source": [
    "px.scatter(\n",
    "    df,\n",
    "    x=\"sepal_width\",\n",
    "    y=\"sepal_length\",\n",
    "    color=\"species\",\n",
    "    marginal_y=\"violin\",\n",
    "    marginal_x=\"box\",\n",
    "    trendline=\"ols\",\n",
    "    hover_data=[\"petal_length\", \"petal_width\"],\n",
    ")"
   ]
  },
  {
   "cell_type": "code",
   "execution_count": null,
   "id": "58ebfb41",
   "metadata": {},
   "outputs": [],
   "source": []
  },
  {
   "cell_type": "code",
   "execution_count": null,
   "id": "199a196a",
   "metadata": {},
   "outputs": [],
   "source": []
  },
  {
   "cell_type": "code",
   "execution_count": null,
   "id": "c57b3563",
   "metadata": {},
   "outputs": [],
   "source": []
  },
  {
   "cell_type": "code",
   "execution_count": null,
   "id": "59af649e",
   "metadata": {},
   "outputs": [],
   "source": []
  },
  {
   "cell_type": "code",
   "execution_count": null,
   "id": "5ab22cb4",
   "metadata": {},
   "outputs": [],
   "source": []
  },
  {
   "cell_type": "code",
   "execution_count": null,
   "id": "8a374456",
   "metadata": {},
   "outputs": [],
   "source": []
  },
  {
   "cell_type": "code",
   "execution_count": null,
   "id": "c6ab858c",
   "metadata": {},
   "outputs": [],
   "source": []
  },
  {
   "cell_type": "code",
   "execution_count": null,
   "id": "b63a4a79",
   "metadata": {},
   "outputs": [],
   "source": []
  }
 ],
 "metadata": {
  "kernelspec": {
   "display_name": "Python 3 (ipykernel)",
   "language": "python",
   "name": "python3"
  },
  "language_info": {
   "codemirror_mode": {
    "name": "ipython",
    "version": 3
   },
   "file_extension": ".py",
   "mimetype": "text/x-python",
   "name": "python",
   "nbconvert_exporter": "python",
   "pygments_lexer": "ipython3",
   "version": "3.9.7"
  }
 },
 "nbformat": 4,
 "nbformat_minor": 5
}
